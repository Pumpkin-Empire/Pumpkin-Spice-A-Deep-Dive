{
 "cells": [
  {
   "cell_type": "code",
   "execution_count": 3,
   "id": "3ff0226e",
   "metadata": {},
   "outputs": [
    {
     "name": "stdout",
     "output_type": "stream",
     "text": [
      "Collecting pandas\n",
      "  Using cached pandas-1.4.3-cp310-cp310-macosx_11_0_arm64.whl (10.4 MB)\n",
      "Requirement already satisfied: pytz>=2020.1 in /opt/homebrew/Cellar/jupyterlab/3.4.5/libexec/lib/python3.10/site-packages (from pandas) (2022.2)\n",
      "Requirement already satisfied: python-dateutil>=2.8.1 in /opt/homebrew/Cellar/jupyterlab/3.4.5/libexec/lib/python3.10/site-packages (from pandas) (2.8.2)\n",
      "Collecting numpy>=1.21.0\n",
      "  Downloading numpy-1.23.2-cp310-cp310-macosx_11_0_arm64.whl (13.3 MB)\n",
      "\u001b[2K     \u001b[90m━━━━━━━━━━━━━━━━━━━━━━━━━━━━━━━━━━━━━━━━\u001b[0m \u001b[32m13.3/13.3 MB\u001b[0m \u001b[31m14.2 MB/s\u001b[0m eta \u001b[36m0:00:00\u001b[0m00:01\u001b[0m00:01\u001b[0m\n",
      "\u001b[?25hRequirement already satisfied: six>=1.5 in /opt/homebrew/Cellar/six/1.16.0_2/lib/python3.10/site-packages (from python-dateutil>=2.8.1->pandas) (1.16.0)\n",
      "Installing collected packages: numpy, pandas\n",
      "Successfully installed numpy-1.23.2 pandas-1.4.3\n"
     ]
    }
   ],
   "source": [
    "import sys\n",
    "!{sys.executable} -m pip install pandas\n"
   ]
  },
  {
   "cell_type": "code",
   "execution_count": 4,
   "id": "8f929043",
   "metadata": {},
   "outputs": [],
   "source": [
    "import pandas as pd\n",
    "import json"
   ]
  },
  {
   "cell_type": "code",
   "execution_count": 42,
   "id": "2849b985",
   "metadata": {},
   "outputs": [],
   "source": [
    "data = json.load(open('json.json'))\n",
    "\n"
   ]
  },
  {
   "cell_type": "code",
   "execution_count": 70,
   "id": "250ee73b",
   "metadata": {},
   "outputs": [
    {
     "data": {
      "text/plain": [
       "{'entities': {'hashtags': [{'start': 131, 'end': 142, 'tag': 'amquerying'},\n",
       "   {'start': 143, 'end': 160, 'tag': 'WritingCommunity'},\n",
       "   {'start': 161, 'end': 178, 'tag': 'amwritingfiction'}],\n",
       "  'mentions': [{'start': 0,\n",
       "    'end': 14,\n",
       "    'username': 'AuthorJFuller',\n",
       "    'id': '448329810'}]},\n",
       " 'author_id': '1320819574317715463',\n",
       " 'text': '@AuthorJFuller Preparing to query and feeling anxious. Fortunately the local grocery is already stocking pumpkin spice everything. #amquerying #WritingCommunity #amwritingfiction',\n",
       " 'public_metrics': {'retweet_count': 0,\n",
       "  'reply_count': 0,\n",
       "  'like_count': 0,\n",
       "  'quote_count': 0},\n",
       " 'id': '1562107241460891649'}"
      ]
     },
     "execution_count": 70,
     "metadata": {},
     "output_type": "execute_result"
    }
   ],
   "source": [
    "#first tweet data in entirety\n",
    "data['data'][0]"
   ]
  },
  {
   "cell_type": "code",
   "execution_count": 69,
   "id": "51d41f69",
   "metadata": {},
   "outputs": [
    {
     "data": {
      "text/plain": [
       "{'id': '1320819574317715463',\n",
       " 'username': 'KZimmerauthor',\n",
       " 'created_at': '2020-10-26T20:08:29.000Z',\n",
       " 'public_metrics': {'followers_count': 58,\n",
       "  'following_count': 138,\n",
       "  'tweet_count': 76,\n",
       "  'listed_count': 0},\n",
       " 'name': 'Kelly Zimmer',\n",
       " 'location': 'Florida USA'}"
      ]
     },
     "execution_count": 69,
     "metadata": {},
     "output_type": "execute_result"
    }
   ],
   "source": [
    "#first user info - will need to use id: for primary/foreign key to relate to tweet\n",
    "data['includes']['users'][0]"
   ]
  },
  {
   "cell_type": "code",
   "execution_count": 75,
   "id": "72148d03",
   "metadata": {},
   "outputs": [
    {
     "data": {
      "text/html": [
       "<div>\n",
       "<style scoped>\n",
       "    .dataframe tbody tr th:only-of-type {\n",
       "        vertical-align: middle;\n",
       "    }\n",
       "\n",
       "    .dataframe tbody tr th {\n",
       "        vertical-align: top;\n",
       "    }\n",
       "\n",
       "    .dataframe thead th {\n",
       "        text-align: right;\n",
       "    }\n",
       "</style>\n",
       "<table border=\"1\" class=\"dataframe\">\n",
       "  <thead>\n",
       "    <tr style=\"text-align: right;\">\n",
       "      <th></th>\n",
       "      <th>id</th>\n",
       "      <th>username</th>\n",
       "      <th>created_at</th>\n",
       "      <th>public_metrics</th>\n",
       "      <th>name</th>\n",
       "      <th>location</th>\n",
       "    </tr>\n",
       "  </thead>\n",
       "  <tbody>\n",
       "    <tr>\n",
       "      <th>0</th>\n",
       "      <td>1320819574317715463</td>\n",
       "      <td>KZimmerauthor</td>\n",
       "      <td>2020-10-26T20:08:29.000Z</td>\n",
       "      <td>{'followers_count': 58, 'following_count': 138...</td>\n",
       "      <td>Kelly Zimmer</td>\n",
       "      <td>Florida USA</td>\n",
       "    </tr>\n",
       "    <tr>\n",
       "      <th>1</th>\n",
       "      <td>715742118589947904</td>\n",
       "      <td>picorimori</td>\n",
       "      <td>2016-04-01T03:26:33.000Z</td>\n",
       "      <td>{'followers_count': 157, 'following_count': 13...</td>\n",
       "      <td>ning🐀</td>\n",
       "      <td>NaN</td>\n",
       "    </tr>\n",
       "    <tr>\n",
       "      <th>2</th>\n",
       "      <td>1520531882886123520</td>\n",
       "      <td>FazeMadden</td>\n",
       "      <td>2022-04-30T22:33:57.000Z</td>\n",
       "      <td>{'followers_count': 5, 'following_count': 70, ...</td>\n",
       "      <td>Nestor Toledo</td>\n",
       "      <td>NaN</td>\n",
       "    </tr>\n",
       "    <tr>\n",
       "      <th>3</th>\n",
       "      <td>2174166952</td>\n",
       "      <td>JonnyOlivares73</td>\n",
       "      <td>2013-11-09T06:57:07.000Z</td>\n",
       "      <td>{'followers_count': 405, 'following_count': 49...</td>\n",
       "      <td>Jonathan</td>\n",
       "      <td>Framingham, MA</td>\n",
       "    </tr>\n",
       "    <tr>\n",
       "      <th>4</th>\n",
       "      <td>172536397</td>\n",
       "      <td>AKyleW</td>\n",
       "      <td>2010-07-29T23:31:50.000Z</td>\n",
       "      <td>{'followers_count': 161, 'following_count': 77...</td>\n",
       "      <td>Kyle Wagner</td>\n",
       "      <td>Bradenton, FL</td>\n",
       "    </tr>\n",
       "  </tbody>\n",
       "</table>\n",
       "</div>"
      ],
      "text/plain": [
       "                    id         username                created_at  \\\n",
       "0  1320819574317715463    KZimmerauthor  2020-10-26T20:08:29.000Z   \n",
       "1   715742118589947904       picorimori  2016-04-01T03:26:33.000Z   \n",
       "2  1520531882886123520       FazeMadden  2022-04-30T22:33:57.000Z   \n",
       "3           2174166952  JonnyOlivares73  2013-11-09T06:57:07.000Z   \n",
       "4            172536397           AKyleW  2010-07-29T23:31:50.000Z   \n",
       "\n",
       "                                      public_metrics           name  \\\n",
       "0  {'followers_count': 58, 'following_count': 138...   Kelly Zimmer   \n",
       "1  {'followers_count': 157, 'following_count': 13...          ning🐀   \n",
       "2  {'followers_count': 5, 'following_count': 70, ...  Nestor Toledo   \n",
       "3  {'followers_count': 405, 'following_count': 49...       Jonathan   \n",
       "4  {'followers_count': 161, 'following_count': 77...    Kyle Wagner   \n",
       "\n",
       "         location  \n",
       "0     Florida USA  \n",
       "1             NaN  \n",
       "2             NaN  \n",
       "3  Framingham, MA  \n",
       "4   Bradenton, FL  "
      ]
     },
     "execution_count": 75,
     "metadata": {},
     "output_type": "execute_result"
    }
   ],
   "source": [
    "details = data['includes']['users']\n",
    "testDF = pd.DataFrame(details)\n",
    "testDF.head()"
   ]
  },
  {
   "cell_type": "code",
   "execution_count": 79,
   "id": "12193a6d",
   "metadata": {},
   "outputs": [],
   "source": [
    "for user in data['includes']:\n",
    "    author_id = data['includes']['users'][0]['id']\n",
    "    username = data['includes']['users'][0]['username']\n",
    "    created_at = data['includes']['users'][0]['created_at']\n",
    "    followers_count = data['includes']['users'][0]['public_metrics']['followers_count']\n",
    "    name = data['includes']['users'][0]['name']\n",
    "    location = data['includes']['users'][0]['location']\n",
    "    \n",
    "    remix = [author_id, username, created_at, followers_count, name, location]\n",
    "    \n",
    "    \n",
    "    \n"
   ]
  },
  {
   "cell_type": "code",
   "execution_count": 80,
   "id": "d6aa6e32",
   "metadata": {},
   "outputs": [
    {
     "name": "stdout",
     "output_type": "stream",
     "text": [
      "['1320819574317715463', 'KZimmerauthor', '2020-10-26T20:08:29.000Z', 58, 'Kelly Zimmer', 'Florida USA']\n"
     ]
    }
   ],
   "source": [
    "print(remix)"
   ]
  },
  {
   "cell_type": "code",
   "execution_count": 81,
   "id": "9ec994e1",
   "metadata": {},
   "outputs": [],
   "source": [
    "testDF.to_csv('test_csv_twitter.csv')"
   ]
  },
  {
   "cell_type": "code",
   "execution_count": 82,
   "id": "081e2d62",
   "metadata": {},
   "outputs": [],
   "source": [
    "please_work = pd.read_csv('test_csv_twitter.csv')"
   ]
  },
  {
   "cell_type": "code",
   "execution_count": 83,
   "id": "acf09297",
   "metadata": {},
   "outputs": [
    {
     "data": {
      "text/html": [
       "<div>\n",
       "<style scoped>\n",
       "    .dataframe tbody tr th:only-of-type {\n",
       "        vertical-align: middle;\n",
       "    }\n",
       "\n",
       "    .dataframe tbody tr th {\n",
       "        vertical-align: top;\n",
       "    }\n",
       "\n",
       "    .dataframe thead th {\n",
       "        text-align: right;\n",
       "    }\n",
       "</style>\n",
       "<table border=\"1\" class=\"dataframe\">\n",
       "  <thead>\n",
       "    <tr style=\"text-align: right;\">\n",
       "      <th></th>\n",
       "      <th>Unnamed: 0</th>\n",
       "      <th>id</th>\n",
       "      <th>username</th>\n",
       "      <th>created_at</th>\n",
       "      <th>public_metrics</th>\n",
       "      <th>name</th>\n",
       "      <th>location</th>\n",
       "    </tr>\n",
       "  </thead>\n",
       "  <tbody>\n",
       "    <tr>\n",
       "      <th>0</th>\n",
       "      <td>0</td>\n",
       "      <td>1320819574317715463</td>\n",
       "      <td>KZimmerauthor</td>\n",
       "      <td>2020-10-26T20:08:29.000Z</td>\n",
       "      <td>{'followers_count': 58, 'following_count': 138...</td>\n",
       "      <td>Kelly Zimmer</td>\n",
       "      <td>Florida USA</td>\n",
       "    </tr>\n",
       "    <tr>\n",
       "      <th>1</th>\n",
       "      <td>1</td>\n",
       "      <td>715742118589947904</td>\n",
       "      <td>picorimori</td>\n",
       "      <td>2016-04-01T03:26:33.000Z</td>\n",
       "      <td>{'followers_count': 157, 'following_count': 13...</td>\n",
       "      <td>ning🐀</td>\n",
       "      <td>NaN</td>\n",
       "    </tr>\n",
       "    <tr>\n",
       "      <th>2</th>\n",
       "      <td>2</td>\n",
       "      <td>1520531882886123520</td>\n",
       "      <td>FazeMadden</td>\n",
       "      <td>2022-04-30T22:33:57.000Z</td>\n",
       "      <td>{'followers_count': 5, 'following_count': 70, ...</td>\n",
       "      <td>Nestor Toledo</td>\n",
       "      <td>NaN</td>\n",
       "    </tr>\n",
       "    <tr>\n",
       "      <th>3</th>\n",
       "      <td>3</td>\n",
       "      <td>2174166952</td>\n",
       "      <td>JonnyOlivares73</td>\n",
       "      <td>2013-11-09T06:57:07.000Z</td>\n",
       "      <td>{'followers_count': 405, 'following_count': 49...</td>\n",
       "      <td>Jonathan</td>\n",
       "      <td>Framingham, MA</td>\n",
       "    </tr>\n",
       "    <tr>\n",
       "      <th>4</th>\n",
       "      <td>4</td>\n",
       "      <td>172536397</td>\n",
       "      <td>AKyleW</td>\n",
       "      <td>2010-07-29T23:31:50.000Z</td>\n",
       "      <td>{'followers_count': 161, 'following_count': 77...</td>\n",
       "      <td>Kyle Wagner</td>\n",
       "      <td>Bradenton, FL</td>\n",
       "    </tr>\n",
       "  </tbody>\n",
       "</table>\n",
       "</div>"
      ],
      "text/plain": [
       "   Unnamed: 0                   id         username                created_at  \\\n",
       "0           0  1320819574317715463    KZimmerauthor  2020-10-26T20:08:29.000Z   \n",
       "1           1   715742118589947904       picorimori  2016-04-01T03:26:33.000Z   \n",
       "2           2  1520531882886123520       FazeMadden  2022-04-30T22:33:57.000Z   \n",
       "3           3           2174166952  JonnyOlivares73  2013-11-09T06:57:07.000Z   \n",
       "4           4            172536397           AKyleW  2010-07-29T23:31:50.000Z   \n",
       "\n",
       "                                      public_metrics           name  \\\n",
       "0  {'followers_count': 58, 'following_count': 138...   Kelly Zimmer   \n",
       "1  {'followers_count': 157, 'following_count': 13...          ning🐀   \n",
       "2  {'followers_count': 5, 'following_count': 70, ...  Nestor Toledo   \n",
       "3  {'followers_count': 405, 'following_count': 49...       Jonathan   \n",
       "4  {'followers_count': 161, 'following_count': 77...    Kyle Wagner   \n",
       "\n",
       "         location  \n",
       "0     Florida USA  \n",
       "1             NaN  \n",
       "2             NaN  \n",
       "3  Framingham, MA  \n",
       "4   Bradenton, FL  "
      ]
     },
     "execution_count": 83,
     "metadata": {},
     "output_type": "execute_result"
    }
   ],
   "source": [
    "please_work.head()"
   ]
  },
  {
   "cell_type": "code",
   "execution_count": null,
   "id": "f553bfd8",
   "metadata": {},
   "outputs": [],
   "source": []
  }
 ],
 "metadata": {
  "kernelspec": {
   "display_name": "Python 3 (ipykernel)",
   "language": "python",
   "name": "python3"
  },
  "language_info": {
   "codemirror_mode": {
    "name": "ipython",
    "version": 3
   },
   "file_extension": ".py",
   "mimetype": "text/x-python",
   "name": "python",
   "nbconvert_exporter": "python",
   "pygments_lexer": "ipython3",
   "version": "3.10.6"
  }
 },
 "nbformat": 4,
 "nbformat_minor": 5
}
